{
 "cells": [
  {
   "cell_type": "code",
   "execution_count": 8,
   "metadata": {},
   "outputs": [],
   "source": [
    "import numpy as np\n",
    "import matplotlib.pyplot as plt\n",
    "from sklearn.model_selection import train_test_split\n",
    "\n",
    "from tensorflow.keras import models, layers, utils\n",
    "from tensorflow.keras import callbacks\n",
    "from tensorflow.keras import utils\n",
    "from keras.datasets import reuters"
   ]
  },
  {
   "cell_type": "markdown",
   "metadata": {},
   "source": [
    "- train_data : 기사 내용. 리스트를 담고있는 리스트. 하위 리스트는 숫자를 담고있는데 어휘사전에서 해당하는 인덱스의 단어를 가리킨다.\n",
    "- train_labels : 해당 기사의 주제"
   ]
  },
  {
   "cell_type": "code",
   "execution_count": 9,
   "metadata": {},
   "outputs": [
    {
     "name": "stdout",
     "output_type": "stream",
     "text": [
      "6736\n",
      "2246\n",
      "2246\n",
      "46\n"
     ]
    }
   ],
   "source": [
    "# 문제 2-1: reuters 데이터셋을 로드하고, 훈련 데이터셋에서 25%를 검증 데이터셋으로 분리합니다.\n",
    "# [[YOUR CODE]]\n",
    "\n",
    "(train_data, train_labels), (test_data, test_labels) = reuters.load_data(num_words=10000) # 상위 10000까지만 로드\n",
    "\n",
    "train_data, val_data, train_labels, val_labels = train_test_split(train_data, train_labels,\n",
    "                                                                  test_size=0.25,\n",
    "                                                                  shuffle=True,\n",
    "                                                                  random_state=123)\n",
    "\n",
    "\n",
    "\n",
    "# 훈련, 검증, 테스트 데이터와 레이블 종류가 몇 개인지 출력합니다.\n",
    "print(len(train_data))\n",
    "print(len(val_data))\n",
    "print(len(test_data))\n",
    "print(len(set(train_labels)))"
   ]
  },
  {
   "cell_type": "code",
   "execution_count": 10,
   "metadata": {},
   "outputs": [],
   "source": [
    "# 문제 2-2: 텍스트 데이터의 전처리를 위해서 각 데이터셋마다 원-핫 인코딩을 수행합니다.\n",
    "def one_hot_encoding(data, dim=10000):\n",
    "  result = np.zeros((len(data), dim)) # 행 : data의 개수만큼, 열 dim = 10000개만큼 0으로 채운 행렬 생성\n",
    "  for i, d in enumerate(data): # data안의 요소(d)를 순회한다. i는 d의 인덱스\n",
    "    result[i,d] = 1. # resudata=lts(0행렬)의 [i,d]번째에 1을 넣는다\n",
    "  return result\n",
    "  # [[YOUR CODE]]\n",
    "\n",
    "train_data = one_hot_encoding(train_data)\n",
    "val_data = one_hot_encoding(val_data)\n",
    "test_data = one_hot_encoding(test_data)\n"
   ]
  },
  {
   "cell_type": "code",
   "execution_count": 11,
   "metadata": {},
   "outputs": [],
   "source": [
    "# 레이블 데이터들은 범주형 형태로 to_categorical() 함수를 사용해 변환합니다.\n",
    "# [[YOUR CODE]]\n",
    "train_labels_cat = utils.to_categorical(train_labels)\n",
    "val_labels_cat = utils.to_categorical(val_labels)\n",
    "test_labels_cat = utils.to_categorical(test_labels)"
   ]
  },
  {
   "cell_type": "markdown",
   "metadata": {},
   "source": [
    "### 모델 구성 및 컴파일\n",
    "---\n",
    "BatchNormalization과 Dropout을 적용하여 빠르게 학습하면서 과대적합을 방지하고, 46개의 뉴스 주제를 분류하는 딥러닝 모델을 구성합니다."
   ]
  },
  {
   "cell_type": "code",
   "execution_count": 12,
   "metadata": {},
   "outputs": [
    {
     "name": "stdout",
     "output_type": "stream",
     "text": [
      "Model: \"sequential_1\"\n",
      "_________________________________________________________________\n",
      " Layer (type)                Output Shape              Param #   \n",
      "=================================================================\n",
      " input (Dense)               (None, 128)               1280128   \n",
      "                                                                 \n",
      " batch_normalization_2 (Bat  (None, 128)               512       \n",
      " chNormalization)                                                \n",
      "                                                                 \n",
      " activation_2 (Activation)   (None, 128)               0         \n",
      "                                                                 \n",
      " dropout_2 (Dropout)         (None, 128)               0         \n",
      "                                                                 \n",
      " hidden (Dense)              (None, 64)                8256      \n",
      "                                                                 \n",
      " batch_normalization_3 (Bat  (None, 64)                256       \n",
      " chNormalization)                                                \n",
      "                                                                 \n",
      " activation_3 (Activation)   (None, 64)                0         \n",
      "                                                                 \n",
      " dropout_3 (Dropout)         (None, 64)                0         \n",
      "                                                                 \n",
      " output (Dense)              (None, 46)                2990      \n",
      "                                                                 \n",
      "=================================================================\n",
      "Total params: 1292142 (4.93 MB)\n",
      "Trainable params: 1291758 (4.93 MB)\n",
      "Non-trainable params: 384 (1.50 KB)\n",
      "_________________________________________________________________\n"
     ]
    }
   ],
   "source": [
    "# 문제 2-3: 빠른 학습과 과대적합을 방지하기 위해 BatchNormalization과 Dropout을 적용한 딥러닝 모델을 구성합니다.\n",
    "# [[YOUR CODE]]\n",
    "model = models.Sequential()\n",
    "model.add(layers.Dense(128, input_shape=(10000,), name='input'))\n",
    "model.add(layers.BatchNormalization())\n",
    "model.add(layers.Activation('relu'))\n",
    "model.add(layers.Dropout(0.5))\n",
    "\n",
    "model.add(layers.Dense(64,  name='hidden'))\n",
    "model.add(layers.BatchNormalization())\n",
    "model.add(layers.Activation('relu'))\n",
    "model.add(layers.Dropout(0.5))\n",
    "\n",
    "model.add(layers.Dense(46, activation='softmax', name='output'))\n",
    "\n",
    "model.compile(optimizer='rmsprop', loss='categorical_crossentropy',\n",
    "              metrics=['accuracy'])\n",
    "\n",
    "model.summary()"
   ]
  },
  {
   "cell_type": "code",
   "execution_count": 13,
   "metadata": {},
   "outputs": [
    {
     "data": {
      "text/plain": [
       "((6736, 10000), (6736, 46))"
      ]
     },
     "execution_count": 13,
     "metadata": {},
     "output_type": "execute_result"
    }
   ],
   "source": [
    "# train_data.shape, train_labels.shape,train_labels_cat.shape, val_data.shape, val_labels.shape,val_labels_cat.shape\n",
    "train_data.shape, train_labels_cat.shape"
   ]
  },
  {
   "cell_type": "code",
   "execution_count": 14,
   "metadata": {},
   "outputs": [
    {
     "name": "stdout",
     "output_type": "stream",
     "text": [
      "Epoch 1/30\n",
      "14/14 [==============================] - 2s 72ms/step - loss: 2.7890 - accuracy: 0.3979 - val_loss: 3.3686 - val_accuracy: 0.6256\n",
      "Epoch 2/30\n",
      "14/14 [==============================] - 0s 36ms/step - loss: 1.9097 - accuracy: 0.6167 - val_loss: 3.1041 - val_accuracy: 0.6723\n",
      "Epoch 3/30\n",
      "14/14 [==============================] - 1s 37ms/step - loss: 1.5508 - accuracy: 0.6835 - val_loss: 2.8504 - val_accuracy: 0.6745\n",
      "Epoch 4/30\n",
      "14/14 [==============================] - 0s 35ms/step - loss: 1.3465 - accuracy: 0.7113 - val_loss: 2.6573 - val_accuracy: 0.6888\n",
      "Epoch 5/30\n",
      "14/14 [==============================] - 1s 37ms/step - loss: 1.1810 - accuracy: 0.7380 - val_loss: 2.4008 - val_accuracy: 0.6897\n",
      "Epoch 6/30\n",
      "14/14 [==============================] - 0s 36ms/step - loss: 1.0646 - accuracy: 0.7589 - val_loss: 2.1771 - val_accuracy: 0.7035\n",
      "Epoch 7/30\n",
      "14/14 [==============================] - 1s 41ms/step - loss: 0.9677 - accuracy: 0.7739 - val_loss: 1.9797 - val_accuracy: 0.7164\n",
      "Epoch 8/30\n",
      "14/14 [==============================] - 1s 37ms/step - loss: 0.8952 - accuracy: 0.7843 - val_loss: 1.7824 - val_accuracy: 0.7164\n",
      "Epoch 9/30\n",
      "14/14 [==============================] - 1s 37ms/step - loss: 0.8411 - accuracy: 0.7977 - val_loss: 1.6360 - val_accuracy: 0.7297\n",
      "Epoch 10/30\n",
      "14/14 [==============================] - 0s 36ms/step - loss: 0.7732 - accuracy: 0.8124 - val_loss: 1.4811 - val_accuracy: 0.7427\n",
      "Epoch 11/30\n",
      "14/14 [==============================] - 1s 45ms/step - loss: 0.7308 - accuracy: 0.8187 - val_loss: 1.4094 - val_accuracy: 0.7418\n",
      "Epoch 12/30\n",
      "14/14 [==============================] - 1s 38ms/step - loss: 0.6977 - accuracy: 0.8319 - val_loss: 1.3179 - val_accuracy: 0.7409\n",
      "Epoch 13/30\n",
      "14/14 [==============================] - 1s 37ms/step - loss: 0.6588 - accuracy: 0.8306 - val_loss: 1.2296 - val_accuracy: 0.7645\n",
      "Epoch 14/30\n",
      "14/14 [==============================] - 1s 37ms/step - loss: 0.6206 - accuracy: 0.8412 - val_loss: 1.1771 - val_accuracy: 0.7622\n",
      "Epoch 15/30\n",
      "14/14 [==============================] - 0s 36ms/step - loss: 0.6050 - accuracy: 0.8504 - val_loss: 1.1592 - val_accuracy: 0.7725\n",
      "Epoch 16/30\n",
      "14/14 [==============================] - 1s 37ms/step - loss: 0.5742 - accuracy: 0.8545 - val_loss: 1.1107 - val_accuracy: 0.7801\n",
      "Epoch 17/30\n",
      "14/14 [==============================] - 1s 37ms/step - loss: 0.5557 - accuracy: 0.8610 - val_loss: 1.0796 - val_accuracy: 0.7747\n",
      "Epoch 18/30\n",
      "14/14 [==============================] - 1s 37ms/step - loss: 0.5190 - accuracy: 0.8697 - val_loss: 1.0636 - val_accuracy: 0.7796\n",
      "Epoch 19/30\n",
      "14/14 [==============================] - 0s 36ms/step - loss: 0.4954 - accuracy: 0.8737 - val_loss: 1.0548 - val_accuracy: 0.7769\n",
      "Epoch 20/30\n",
      "14/14 [==============================] - 1s 37ms/step - loss: 0.4850 - accuracy: 0.8771 - val_loss: 1.0412 - val_accuracy: 0.7823\n",
      "Epoch 21/30\n",
      "14/14 [==============================] - 0s 36ms/step - loss: 0.4608 - accuracy: 0.8827 - val_loss: 1.0386 - val_accuracy: 0.7854\n",
      "Epoch 22/30\n",
      "14/14 [==============================] - 0s 36ms/step - loss: 0.4321 - accuracy: 0.8875 - val_loss: 1.0369 - val_accuracy: 0.7827\n",
      "Epoch 23/30\n",
      "14/14 [==============================] - 1s 33ms/step - loss: 0.4340 - accuracy: 0.8884 - val_loss: 1.0382 - val_accuracy: 0.7867\n",
      "Epoch 24/30\n",
      "14/14 [==============================] - 0s 32ms/step - loss: 0.4181 - accuracy: 0.8934 - val_loss: 1.0494 - val_accuracy: 0.7845\n",
      "Epoch 25/30\n",
      "14/14 [==============================] - 0s 31ms/step - loss: 0.3898 - accuracy: 0.9013 - val_loss: 1.0570 - val_accuracy: 0.7912\n",
      "Epoch 26/30\n",
      "14/14 [==============================] - 0s 31ms/step - loss: 0.3943 - accuracy: 0.9029 - val_loss: 1.0758 - val_accuracy: 0.7890\n",
      "Epoch 27/30\n",
      "14/14 [==============================] - 1s 37ms/step - loss: 0.3894 - accuracy: 0.8999 - val_loss: 1.0851 - val_accuracy: 0.7872\n",
      "Epoch 28/30\n",
      "14/14 [==============================] - 1s 43ms/step - loss: 0.3789 - accuracy: 0.9032 - val_loss: 1.0799 - val_accuracy: 0.7903\n",
      "Epoch 29/30\n",
      "14/14 [==============================] - 1s 38ms/step - loss: 0.3582 - accuracy: 0.9069 - val_loss: 1.1528 - val_accuracy: 0.7747\n",
      "Epoch 30/30\n",
      "14/14 [==============================] - 1s 36ms/step - loss: 0.3582 - accuracy: 0.9084 - val_loss: 1.0956 - val_accuracy: 0.7894\n"
     ]
    }
   ],
   "source": [
    "# 필요한 콜백 정의하기\n",
    "check_point_cb = callbacks.ModelCheckpoint('reuters_4.h5', save_best_only=True)\n",
    "early_stopping_cb = callbacks.EarlyStopping(patience=10, monitor='val_loss',\n",
    "                                  restore_best_weights=True)\n",
    "\n",
    "# 훈련 내역을 history에 저장\n",
    "history = model.fit(train_data,train_labels_cat,\n",
    "                    epochs=30,\n",
    "                    batch_size=512,\n",
    "                    validation_data=(val_data, val_labels_cat),\n",
    "                    callbacks=[check_point_cb,early_stopping_cb])\n",
    "\n",
    "# 1 : loss: 0.0746 - accuracy: 0.9672 - val_loss: 1.2110 - val_accuracy: 0.7916 # 기본\n",
    "# 2 : loss: 0.2630 - accuracy: 0.9339 - val_loss: 0.9960 - val_accuracy: 0.7930 # 드롭아웃 0.2 -> 0.5 (두개 레이어에 모두)\n",
    "# 3 : loss: 0.1139 - accuracy: 0.9641 - val_loss: 0.9817 - val_accuracy: 0.7930 # 레이어 한단위 제거 (Dense-Batch-Activ-Drop)\n"
   ]
  },
  {
   "cell_type": "code",
   "execution_count": 15,
   "metadata": {},
   "outputs": [
    {
     "name": "stderr",
     "output_type": "stream",
     "text": [
      "/var/folders/96/sm2p62h1023c4ytkjcyhc9x40000gn/T/ipykernel_2638/98960745.py:2: MatplotlibDeprecationWarning: The seaborn styles shipped by Matplotlib are deprecated since 3.6, as they no longer correspond to the styles shipped by seaborn. However, they will remain available as 'seaborn-v0_8-<style>'. Alternatively, directly use the seaborn API instead.\n",
      "  plt.style.use('seaborn-white')\n"
     ]
    },
    {
     "data": {
      "image/png": "[encoded data removed]",
      "text/plain": [
       "<Figure size 1200x500 with 2 Axes>"
      ]
     },
     "metadata": {},
     "output_type": "display_data"
    }
   ],
   "source": [
    "# 학습 히스토리의 `loss`, `val_loss`, `accuracy`, `val_accuracy`를 차트로 시각화합니다.\n",
    "plt.style.use('seaborn-white')\n",
    "\n",
    "history_dict = history.history\n",
    "\n",
    "loss = history_dict['loss']\n",
    "val_loss = history_dict['val_loss']\n",
    "\n",
    "epochs = range(1, len(loss) + 1)\n",
    "fig = plt.figure(figsize=(12, 5))\n",
    "\n",
    "ax1 = fig.add_subplot(1, 2, 1)\n",
    "ax1.plot(epochs, loss, 'b-', label='train_loss')\n",
    "ax1.plot(epochs, val_loss, 'r-', label='val_loss')\n",
    "ax1.set_title('Train and Validation Loss')\n",
    "ax1.set_xlabel('Epochs')\n",
    "ax1.set_ylabel('Loss')\n",
    "ax1.grid()\n",
    "ax1.legend()\n",
    "\n",
    "accuracy = history_dict['accuracy']\n",
    "val_accuracy = history_dict['val_accuracy']\n",
    "\n",
    "ax2 = fig.add_subplot(1, 2, 2)\n",
    "ax2.plot(epochs, accuracy, 'b-', label='train_accuracy')\n",
    "ax2.plot(epochs, val_accuracy, 'r-', label='val_accuracy')\n",
    "ax2.set_title('Train and Validation Accuracy')\n",
    "ax2.set_xlabel('Epochs')\n",
    "ax2.set_ylabel('Accuracy')\n",
    "ax2.grid()\n",
    "ax2.legend()\n",
    "\n",
    "plt.show()\n"
   ]
  },
  {
   "cell_type": "markdown",
   "metadata": {},
   "source": [
    "### 모델 평가 및 예측\n",
    "---\n",
    "테스트 데이터셋으로 모델 평가하기\n"
   ]
  },
  {
   "cell_type": "code",
   "execution_count": 16,
   "metadata": {},
   "outputs": [
    {
     "name": "stdout",
     "output_type": "stream",
     "text": [
      "71/71 [==============================] - 0s 2ms/step - loss: 1.0811 - accuracy: 0.7894\n"
     ]
    },
    {
     "data": {
      "text/plain": [
       "[1.0810692310333252, 0.7894033789634705]"
      ]
     },
     "execution_count": 16,
     "metadata": {},
     "output_type": "execute_result"
    }
   ],
   "source": [
    "# 평가\n",
    "model.evaluate(test_data, test_labels_cat)\n",
    "\n",
    "# loss: 1.0742 - accuracy: 0.7907"
   ]
  },
  {
   "cell_type": "code",
   "execution_count": 17,
   "metadata": {},
   "outputs": [
    {
     "name": "stdout",
     "output_type": "stream",
     "text": [
      "211/211 [==============================] - 1s 2ms/step\n",
      "(6736, 46)\n"
     ]
    }
   ],
   "source": [
    "# 예측\n",
    "pred = model.predict(train_data)\n",
    "print(pred.shape)"
   ]
  }
 ],
 "metadata": {
  "kernelspec": {
   "display_name": "base",
   "language": "python",
   "name": "python3"
  },
  "language_info": {
   "codemirror_mode": {
    "name": "ipython",
    "version": 3
   },
   "file_extension": ".py",
   "mimetype": "text/x-python",
   "name": "python",
   "nbconvert_exporter": "python",
   "pygments_lexer": "ipython3",
   "version": "3.11.4"
  },
  "orig_nbformat": 4
 },
 "nbformat": 4,
 "nbformat_minor": 2
}
