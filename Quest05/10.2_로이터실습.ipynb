{
 "cells": [
  {
   "cell_type": "code",
   "execution_count": 1,
   "metadata": {},
   "outputs": [
    {
     "name": "stderr",
     "output_type": "stream",
     "text": [
      "2023-08-13 10:39:25.696988: I tensorflow/core/platform/cpu_feature_guard.cc:182] This TensorFlow binary is optimized to use available CPU instructions in performance-critical operations.\n",
      "To enable the following instructions: AVX2 FMA, in other operations, rebuild TensorFlow with the appropriate compiler flags.\n"
     ]
    }
   ],
   "source": [
    "import numpy as np\n",
    "import matplotlib.pyplot as plt\n",
    "from sklearn.model_selection import train_test_split\n",
    "\n",
    "from tensorflow.keras import models, layers, utils\n",
    "from tensorflow.keras import callbacks\n",
    "from tensorflow.keras import utils\n",
    "from keras.datasets import reuters"
   ]
  },
  {
   "cell_type": "markdown",
   "metadata": {},
   "source": [
    "- train_data : 기사 내용. 리스트를 담고있는 리스트. 하위 리스트는 숫자를 담고있는데 어휘사전에서 해당하는 인덱스의 단어를 가리킨다.\n",
    "- train_labels : 해당 기사의 주제"
   ]
  },
  {
   "cell_type": "code",
   "execution_count": 2,
   "metadata": {},
   "outputs": [
    {
     "name": "stdout",
     "output_type": "stream",
     "text": [
      "6736\n",
      "2246\n",
      "2246\n",
      "46\n"
     ]
    }
   ],
   "source": [
    "# 문제 2-1: reuters 데이터셋을 로드하고, 훈련 데이터셋에서 25%를 검증 데이터셋으로 분리합니다.\n",
    "# [[YOUR CODE]]\n",
    "\n",
    "(train_data, train_labels), (test_data, test_labels) = reuters.load_data(num_words=10000) # 상위 10000까지만 로드\n",
    "\n",
    "train_data, val_data, train_labels, val_labels = train_test_split(train_data, train_labels,\n",
    "                                                                  test_size=0.25,\n",
    "                                                                  shuffle=True,\n",
    "                                                                  random_state=123)\n",
    "\n",
    "\n",
    "\n",
    "# 훈련, 검증, 테스트 데이터와 레이블 종류가 몇 개인지 출력합니다.\n",
    "print(len(train_data))\n",
    "print(len(val_data))\n",
    "print(len(test_data))\n",
    "print(len(set(train_labels)))"
   ]
  },
  {
   "cell_type": "code",
   "execution_count": 3,
   "metadata": {},
   "outputs": [],
   "source": [
    "# 문제 2-2: 텍스트 데이터의 전처리를 위해서 각 데이터셋마다 원-핫 인코딩을 수행합니다.\n",
    "def one_hot_encoding(data, dim=10000):\n",
    "  result = np.zeros((len(data), dim)) # 행 : data의 개수만큼, 열 dim = 10000개만큼 0으로 채운 행렬 생성\n",
    "  for i, d in enumerate(data): # data안의 요소(d)를 순회한다. i는 d의 인덱스\n",
    "    result[i,d] = 1. # resudata=lts(0행렬)의 [i,d]번째에 1을 넣는다\n",
    "  return result\n",
    "  # [[YOUR CODE]]\n",
    "\n",
    "train_data = one_hot_encoding(train_data)\n",
    "val_data = one_hot_encoding(val_data)\n",
    "test_data = one_hot_encoding(test_data)\n"
   ]
  },
  {
   "cell_type": "code",
   "execution_count": 21,
   "metadata": {},
   "outputs": [],
   "source": [
    "# 레이블 데이터들은 범주형 형태로 to_categorical() 함수를 사용해 변환합니다.\n",
    "# [[YOUR CODE]]\n",
    "train_labels_cat = utils.to_categorical(train_labels)\n",
    "val_labels_cat = utils.to_categorical(val_labels)\n",
    "test_labels_cat = utils.to_categorical(test_labels)"
   ]
  },
  {
   "cell_type": "markdown",
   "metadata": {},
   "source": [
    "### 모델 구성 및 컴파일\n",
    "---\n",
    "BatchNormalization과 Dropout을 적용하여 빠르게 학습하면서 과대적합을 방지하고, 46개의 뉴스 주제를 분류하는 딥러닝 모델을 구성합니다."
   ]
  },
  {
   "cell_type": "code",
   "execution_count": 45,
   "metadata": {},
   "outputs": [
    {
     "ename": "SyntaxError",
     "evalue": "invalid syntax (1585718704.py, line 12)",
     "output_type": "error",
     "traceback": [
      "\u001b[0;36m  Cell \u001b[0;32mIn[45], line 12\u001b[0;36m\u001b[0m\n\u001b[0;31m    model.add(layers.Dropout(0.5))!\u001b[0m\n\u001b[0m                                  ^\u001b[0m\n\u001b[0;31mSyntaxError\u001b[0m\u001b[0;31m:\u001b[0m invalid syntax\n"
     ]
    }
   ],
   "source": [
    "# 문제 2-3: 빠른 학습과 과대적합을 방지하기 위해 BatchNormalization과 Dropout을 적용한 딥러닝 모델을 구성합니다.\n",
    "# [[YOUR CODE]]\n",
    "model = models.Sequential()\n",
    "model.add(layers.Dense(128, input_shape=(10000,), name='input'))\n",
    "model.add(layers.BatchNormalization())\n",
    "model.add(layers.Activation('relu'))\n",
    "model.add(layers.Dropout(0.5))\n",
    "\n",
    "model.add(layers.Dense(64,  name='hidden'))\n",
    "model.add(layers.BatchNormalization())\n",
    "model.add(layers.Activation('relu'))\n",
    "model.add(layers.Dropout(0.5))!\n",
    "\n",
    "model.add(layers.Dense(46, activation='softmax', name='output'))\n",
    "\n",
    "model.compile(optimizer='rmsprop', loss='categorical_crossentropy',\n",
    "              metrics=['accuracy'])\n",
    "\n",
    "model.summary()"
   ]
  },
  {
   "cell_type": "code",
   "execution_count": 46,
   "metadata": {},
   "outputs": [
    {
     "data": {
      "text/plain": [
       "((6736, 10000), (6736, 46))"
      ]
     },
     "execution_count": 46,
     "metadata": {},
     "output_type": "execute_result"
    }
   ],
   "source": [
    "# train_data.shape, train_labels.shape,train_labels_cat.shape, val_data.shape, val_labels.shape,val_labels_cat.shape\n",
    "train_data.shape, train_labels_cat.shape"
   ]
  },
  {
   "cell_type": "code",
   "execution_count": 49,
   "metadata": {},
   "outputs": [
    {
     "name": "stdout",
     "output_type": "stream",
     "text": [
      "Epoch 1/30\n",
      "14/14 [==============================] - 1s 48ms/step - loss: 0.1047 - accuracy: 0.9662 - val_loss: 1.0757 - val_accuracy: 0.7867\n",
      "Epoch 2/30\n",
      "14/14 [==============================] - 0s 33ms/step - loss: 0.1026 - accuracy: 0.9676 - val_loss: 1.0702 - val_accuracy: 0.7916\n",
      "Epoch 3/30\n",
      "14/14 [==============================] - 0s 32ms/step - loss: 0.1028 - accuracy: 0.9664 - val_loss: 1.0854 - val_accuracy: 0.7894\n",
      "Epoch 4/30\n",
      "14/14 [==============================] - 0s 30ms/step - loss: 0.0998 - accuracy: 0.9682 - val_loss: 1.1310 - val_accuracy: 0.7894\n",
      "Epoch 5/30\n",
      "14/14 [==============================] - 0s 30ms/step - loss: 0.0965 - accuracy: 0.9682 - val_loss: 1.1431 - val_accuracy: 0.7885\n",
      "Epoch 6/30\n",
      "14/14 [==============================] - 0s 30ms/step - loss: 0.0868 - accuracy: 0.9708 - val_loss: 1.1343 - val_accuracy: 0.7858\n",
      "Epoch 7/30\n",
      "14/14 [==============================] - 0s 35ms/step - loss: 0.0917 - accuracy: 0.9718 - val_loss: 1.1697 - val_accuracy: 0.7885\n",
      "Epoch 8/30\n",
      "14/14 [==============================] - 0s 30ms/step - loss: 0.0963 - accuracy: 0.9675 - val_loss: 1.2244 - val_accuracy: 0.7832\n",
      "Epoch 9/30\n",
      "14/14 [==============================] - 0s 30ms/step - loss: 0.0904 - accuracy: 0.9688 - val_loss: 1.2662 - val_accuracy: 0.7850\n",
      "Epoch 10/30\n",
      "14/14 [==============================] - 0s 31ms/step - loss: 0.0965 - accuracy: 0.9662 - val_loss: 1.2307 - val_accuracy: 0.7930\n",
      "Epoch 11/30\n",
      "14/14 [==============================] - 0s 29ms/step - loss: 0.0894 - accuracy: 0.9693 - val_loss: 1.2017 - val_accuracy: 0.7947\n",
      "Epoch 12/30\n",
      "14/14 [==============================] - 0s 30ms/step - loss: 0.0890 - accuracy: 0.9691 - val_loss: 1.2010 - val_accuracy: 0.7930\n"
     ]
    }
   ],
   "source": [
    "# 필요한 콜백 정의하기\n",
    "check_point_cb = callbacks.ModelCheckpoint('reuters_4.h5', save_best_only=True)\n",
    "early_stopping_cb = callbacks.EarlyStopping(patience=10, monitor='val_loss',\n",
    "                                  restore_best_weights=True)\n",
    "\n",
    "# 훈련 내역을 history에 저장\n",
    "history = model.fit(train_data,train_labels_cat,\n",
    "                    epochs=30,\n",
    "                    batch_size=512,\n",
    "                    validation_data=(val_data, val_labels_cat),\n",
    "                    callbacks=[check_point_cb,early_stopping_cb])\n",
    "\n",
    "# 1 : loss: 0.0746 - accuracy: 0.9672 - val_loss: 1.2110 - val_accuracy: 0.7916 # 기본\n",
    "# 2 : loss: 0.2630 - accuracy: 0.9339 - val_loss: 0.9960 - val_accuracy: 0.7930 # 드롭아웃 0.2 -> 0.5 (두개 레이어에 모두)\n",
    "# 3 : loss: 0.1139 - accuracy: 0.9641 - val_loss: 0.9817 - val_accuracy: 0.7930 # 레이어 한단위 제거 (Dense-Batch-Activ-Drop)\n"
   ]
  },
  {
   "cell_type": "code",
   "execution_count": 44,
   "metadata": {},
   "outputs": [
    {
     "name": "stderr",
     "output_type": "stream",
     "text": [
      "/var/folders/96/sm2p62h1023c4ytkjcyhc9x40000gn/T/ipykernel_2565/98960745.py:2: MatplotlibDeprecationWarning: The seaborn styles shipped by Matplotlib are deprecated since 3.6, as they no longer correspond to the styles shipped by seaborn. However, they will remain available as 'seaborn-v0_8-<style>'. Alternatively, directly use the seaborn API instead.\n",
      "  plt.style.use('seaborn-white')\n"
     ]
    },
    {
     "data": {
      "image/png": "[encoded data removed]",
      "text/plain": [
       "<Figure size 1200x500 with 2 Axes>"
      ]
     },
     "metadata": {},
     "output_type": "display_data"
    }
   ],
   "source": [
    "# 학습 히스토리의 `loss`, `val_loss`, `accuracy`, `val_accuracy`를 차트로 시각화합니다.\n",
    "plt.style.use('seaborn-white')\n",
    "\n",
    "history_dict = history.history\n",
    "\n",
    "loss = history_dict['loss']\n",
    "val_loss = history_dict['val_loss']\n",
    "\n",
    "epochs = range(1, len(loss) + 1)\n",
    "fig = plt.figure(figsize=(12, 5))\n",
    "\n",
    "ax1 = fig.add_subplot(1, 2, 1)\n",
    "ax1.plot(epochs, loss, 'b-', label='train_loss')\n",
    "ax1.plot(epochs, val_loss, 'r-', label='val_loss')\n",
    "ax1.set_title('Train and Validation Loss')\n",
    "ax1.set_xlabel('Epochs')\n",
    "ax1.set_ylabel('Loss')\n",
    "ax1.grid()\n",
    "ax1.legend()\n",
    "\n",
    "accuracy = history_dict['accuracy']\n",
    "val_accuracy = history_dict['val_accuracy']\n",
    "\n",
    "ax2 = fig.add_subplot(1, 2, 2)\n",
    "ax2.plot(epochs, accuracy, 'b-', label='train_accuracy')\n",
    "ax2.plot(epochs, val_accuracy, 'r-', label='val_accuracy')\n",
    "ax2.set_title('Train and Validation Accuracy')\n",
    "ax2.set_xlabel('Epochs')\n",
    "ax2.set_ylabel('Accuracy')\n",
    "ax2.grid()\n",
    "ax2.legend()\n",
    "\n",
    "plt.show()\n"
   ]
  },
  {
   "cell_type": "markdown",
   "metadata": {},
   "source": [
    "### 모델 평가 및 예측\n",
    "---\n",
    "테스트 데이터셋으로 모델 평가하기\n"
   ]
  },
  {
   "cell_type": "code",
   "execution_count": 51,
   "metadata": {},
   "outputs": [
    {
     "name": "stdout",
     "output_type": "stream",
     "text": [
      "71/71 [==============================] - 0s 2ms/step - loss: 1.0742 - accuracy: 0.7907\n"
     ]
    },
    {
     "data": {
      "text/plain": [
       "[1.074191927909851, 0.790739119052887]"
      ]
     },
     "execution_count": 51,
     "metadata": {},
     "output_type": "execute_result"
    }
   ],
   "source": [
    "# 평가\n",
    "model.evaluate(test_data, test_labels_cat)\n",
    "\n",
    "# loss: 1.0742 - accuracy: 0.7907"
   ]
  },
  {
   "cell_type": "code",
   "execution_count": 52,
   "metadata": {},
   "outputs": [
    {
     "name": "stdout",
     "output_type": "stream",
     "text": [
      "211/211 [==============================] - 1s 2ms/step\n",
      "(6736, 46)\n"
     ]
    }
   ],
   "source": [
    "# 예측\n",
    "pred = model.predict(train_data)\n",
    "print(pred.shape)\n",
    "# print(pred_ys[0])"
   ]
  }
 ],
 "metadata": {
  "kernelspec": {
   "display_name": "base",
   "language": "python",
   "name": "python3"
  },
  "language_info": {
   "codemirror_mode": {
    "name": "ipython",
    "version": 3
   },
   "file_extension": ".py",
   "mimetype": "text/x-python",
   "name": "python",
   "nbconvert_exporter": "python",
   "pygments_lexer": "ipython3",
   "version": "3.11.4"
  },
  "orig_nbformat": 4
 },
 "nbformat": 4,
 "nbformat_minor": 2
}
