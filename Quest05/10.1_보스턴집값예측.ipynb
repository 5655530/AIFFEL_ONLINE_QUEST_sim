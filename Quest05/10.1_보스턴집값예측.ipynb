{
 "cells": [
  {
   "cell_type": "code",
   "execution_count": 25,
   "id": "6bc34cb1-ce6a-47cb-ba4b-68c7323ba4a7",
   "metadata": {},
   "outputs": [],
   "source": [
    "from tensorflow.keras import models, layers\n",
    "import matplotlib.pyplot as plt\n",
    "import numpy as np"
   ]
  },
  {
   "cell_type": "code",
   "execution_count": 26,
   "id": "b599e959",
   "metadata": {},
   "outputs": [
    {
     "name": "stdout",
     "output_type": "stream",
     "text": [
      "404\n",
      "102\n"
     ]
    }
   ],
   "source": [
    "from keras.datasets import boston_housing\n",
    "\n",
    "# 집값 데이터 불러와 변수에 할당\n",
    "(train_data, train_labels),(test_data, test_labels) = boston_housing.load_data()\n",
    "\n",
    "# 데이터셋 크기 확인\n",
    "print(len(train_data))\n",
    "print(len(test_data))"
   ]
  },
  {
   "cell_type": "code",
   "execution_count": 27,
   "id": "7b3c345d",
   "metadata": {},
   "outputs": [
    {
     "data": {
      "text/plain": [
       "(404, 13)"
      ]
     },
     "execution_count": 27,
     "metadata": {},
     "output_type": "execute_result"
    }
   ],
   "source": [
    "train_data.shape # 13개 피처, 404개 데이터"
   ]
  },
  {
   "cell_type": "markdown",
   "id": "1e43e40d",
   "metadata": {},
   "source": [
    "## 데이터 전처리"
   ]
  },
  {
   "cell_type": "code",
   "execution_count": 28,
   "id": "695d7379",
   "metadata": {},
   "outputs": [],
   "source": [
    "# 문제 1-1: 데이터셋의 전처리를 위해 표준화 작업을 수행합니다.\n",
    "# 먼저 입력 데이터의 각 특성의 평균을 뺍니다.\n",
    "mean = train_data.mean(axis=0)\n",
    "train_data = train_data - mean\n",
    "\n",
    "# 평균을 뺀 입력 데이터에서 표준편차를 나눕니다.\n",
    "# 데이터 특성의 중앙이 0에 가깝게 만들고, 표준편차가 1이 되게 만듭니다.\n",
    "std = train_data.std(axis=0)\n",
    "train_data = train_data / std\n",
    "\n",
    "# 테스트 데이터셋도 마찬가지로 평균을 빼고, 표준편차로 나눕니다.\n",
    "test_data = test_data - mean\n",
    "test_data = test_data / std"
   ]
  },
  {
   "cell_type": "code",
   "execution_count": 29,
   "id": "721b003b",
   "metadata": {},
   "outputs": [
    {
     "name": "stdout",
     "output_type": "stream",
     "text": [
      "(13,)\n",
      "404\n"
     ]
    }
   ],
   "source": [
    "print((train_data.shape[1], ))\n",
    "print(len(train_data, ))"
   ]
  },
  {
   "cell_type": "code",
   "execution_count": 30,
   "id": "f6fbafaf",
   "metadata": {},
   "outputs": [],
   "source": [
    "# validation data 분리\n",
    "from sklearn.model_selection import train_test_split"
   ]
  },
  {
   "cell_type": "code",
   "execution_count": 31,
   "id": "eb0aa235",
   "metadata": {},
   "outputs": [],
   "source": [
    "train_x, val_x, train_y, val_y = train_test_split(train_data, train_labels, test_size = 0.2, random_state=42)"
   ]
  },
  {
   "cell_type": "markdown",
   "id": "e639356b",
   "metadata": {},
   "source": []
  },
  {
   "cell_type": "markdown",
   "id": "9206cb95",
   "metadata": {},
   "source": [
    "## 모델 구성 및 컴파일"
   ]
  },
  {
   "cell_type": "code",
   "execution_count": 32,
   "id": "ce8e4a72",
   "metadata": {},
   "outputs": [
    {
     "name": "stdout",
     "output_type": "stream",
     "text": [
      "Model: \"sequential_1\"\n",
      "_________________________________________________________________\n",
      " Layer (type)                Output Shape              Param #   \n",
      "=================================================================\n",
      " dense_2 (Dense)             (None, 300)               4200      \n",
      "                                                                 \n",
      " dense_3 (Dense)             (None, 10)                3010      \n",
      "                                                                 \n",
      "=================================================================\n",
      "Total params: 7210 (28.16 KB)\n",
      "Trainable params: 7210 (28.16 KB)\n",
      "Non-trainable params: 0 (0.00 Byte)\n",
      "_________________________________________________________________\n"
     ]
    }
   ],
   "source": [
    "# 문제 1-2: 주택 가격 예측을 위한 딥러닝 모델 구성 및 컴파일합니다.\n",
    "# input_shape은 (train_data.shape[1], )으로 구성합니다.\n",
    "\n",
    "# 입력형태 정의\n",
    "import tensorflow as tf\n",
    "from tensorflow.keras.layers import Input, Dense\n",
    "from tensorflow.keras.models import Model\n",
    "\n",
    "input_shape = (train_data.shape[1], )\n",
    "\n",
    "# 레이어 쌓기\n",
    "model = models.Sequential()\n",
    "model.add(layers.Input(shape=input_shape))\n",
    "model.add(layers.Dense(300, activation='relu'))\n",
    "model.add(layers.Dense(10, activation='softmax'))\n",
    "\n",
    "\n",
    "# 컴파일\n",
    "\n",
    "model.compile(optimizer='adam',loss = 'mean_squared_error', metrics=['mean_squared_error', 'mae']) # mse(손실 제곱 함의 평균)으로 평가\n",
    "\n",
    "\n",
    "\n",
    "# 모델 객체 생성한다\n",
    "model.summary()\n"
   ]
  },
  {
   "cell_type": "markdown",
   "id": "a37d9124",
   "metadata": {},
   "source": [
    "## 모델학습"
   ]
  },
  {
   "cell_type": "code",
   "execution_count": 33,
   "id": "2b8cc9f8",
   "metadata": {},
   "outputs": [
    {
     "name": "stdout",
     "output_type": "stream",
     "text": [
      "Epoch 1/40\n"
     ]
    },
    {
     "name": "stdout",
     "output_type": "stream",
     "text": [
      "11/11 [==============================] - 1s 40ms/step - loss: 610.0976 - mean_squared_error: 610.0976 - mae: 22.7659 - val_loss: 468.4189 - val_mean_squared_error: 468.4189 - val_mae: 20.4173\n",
      "Epoch 2/40\n",
      "11/11 [==============================] - 0s 5ms/step - loss: 610.0974 - mean_squared_error: 610.0974 - mae: 22.7659 - val_loss: 468.4188 - val_mean_squared_error: 468.4188 - val_mae: 20.4173\n",
      "Epoch 3/40\n",
      "11/11 [==============================] - 0s 5ms/step - loss: 610.0974 - mean_squared_error: 610.0974 - mae: 22.7659 - val_loss: 468.4188 - val_mean_squared_error: 468.4188 - val_mae: 20.4173\n",
      "Epoch 4/40\n",
      "11/11 [==============================] - 0s 5ms/step - loss: 610.0974 - mean_squared_error: 610.0974 - mae: 22.7659 - val_loss: 468.4188 - val_mean_squared_error: 468.4188 - val_mae: 20.4173\n",
      "Epoch 5/40\n",
      "11/11 [==============================] - 0s 5ms/step - loss: 610.0974 - mean_squared_error: 610.0974 - mae: 22.7659 - val_loss: 468.4188 - val_mean_squared_error: 468.4188 - val_mae: 20.4173\n",
      "Epoch 6/40\n",
      "11/11 [==============================] - 0s 5ms/step - loss: 610.0974 - mean_squared_error: 610.0974 - mae: 22.7659 - val_loss: 468.4188 - val_mean_squared_error: 468.4188 - val_mae: 20.4173\n",
      "Epoch 7/40\n",
      "11/11 [==============================] - 0s 5ms/step - loss: 610.0974 - mean_squared_error: 610.0974 - mae: 22.7659 - val_loss: 468.4188 - val_mean_squared_error: 468.4188 - val_mae: 20.4173\n",
      "Epoch 8/40\n",
      "11/11 [==============================] - 0s 5ms/step - loss: 610.0974 - mean_squared_error: 610.0974 - mae: 22.7659 - val_loss: 468.4188 - val_mean_squared_error: 468.4188 - val_mae: 20.4173\n",
      "Epoch 9/40\n",
      "11/11 [==============================] - 0s 5ms/step - loss: 610.0974 - mean_squared_error: 610.0974 - mae: 22.7659 - val_loss: 468.4188 - val_mean_squared_error: 468.4188 - val_mae: 20.4173\n",
      "Epoch 10/40\n",
      "11/11 [==============================] - 0s 5ms/step - loss: 610.0974 - mean_squared_error: 610.0974 - mae: 22.7659 - val_loss: 468.4188 - val_mean_squared_error: 468.4188 - val_mae: 20.4173\n",
      "Epoch 11/40\n",
      "11/11 [==============================] - 0s 5ms/step - loss: 610.0974 - mean_squared_error: 610.0974 - mae: 22.7659 - val_loss: 468.4188 - val_mean_squared_error: 468.4188 - val_mae: 20.4173\n",
      "Epoch 12/40\n",
      "11/11 [==============================] - 0s 5ms/step - loss: 610.0974 - mean_squared_error: 610.0974 - mae: 22.7659 - val_loss: 468.4188 - val_mean_squared_error: 468.4188 - val_mae: 20.4173\n",
      "Epoch 13/40\n",
      "11/11 [==============================] - 0s 5ms/step - loss: 610.0974 - mean_squared_error: 610.0974 - mae: 22.7659 - val_loss: 468.4188 - val_mean_squared_error: 468.4188 - val_mae: 20.4173\n",
      "Epoch 14/40\n",
      "11/11 [==============================] - 0s 5ms/step - loss: 610.0973 - mean_squared_error: 610.0973 - mae: 22.7659 - val_loss: 468.4188 - val_mean_squared_error: 468.4188 - val_mae: 20.4173\n",
      "Epoch 15/40\n",
      "11/11 [==============================] - 0s 5ms/step - loss: 610.0974 - mean_squared_error: 610.0974 - mae: 22.7659 - val_loss: 468.4188 - val_mean_squared_error: 468.4188 - val_mae: 20.4173\n",
      "Epoch 16/40\n",
      "11/11 [==============================] - 0s 5ms/step - loss: 610.0974 - mean_squared_error: 610.0974 - mae: 22.7659 - val_loss: 468.4188 - val_mean_squared_error: 468.4188 - val_mae: 20.4173\n",
      "Epoch 17/40\n",
      "11/11 [==============================] - 0s 5ms/step - loss: 610.0974 - mean_squared_error: 610.0974 - mae: 22.7659 - val_loss: 468.4188 - val_mean_squared_error: 468.4188 - val_mae: 20.4173\n",
      "Epoch 18/40\n",
      "11/11 [==============================] - 0s 5ms/step - loss: 610.0974 - mean_squared_error: 610.0974 - mae: 22.7659 - val_loss: 468.4188 - val_mean_squared_error: 468.4188 - val_mae: 20.4173\n",
      "Epoch 19/40\n",
      "11/11 [==============================] - 0s 5ms/step - loss: 610.0974 - mean_squared_error: 610.0974 - mae: 22.7659 - val_loss: 468.4188 - val_mean_squared_error: 468.4188 - val_mae: 20.4173\n",
      "Epoch 20/40\n",
      "11/11 [==============================] - 0s 5ms/step - loss: 610.0974 - mean_squared_error: 610.0974 - mae: 22.7659 - val_loss: 468.4188 - val_mean_squared_error: 468.4188 - val_mae: 20.4173\n",
      "Epoch 21/40\n",
      "11/11 [==============================] - 0s 5ms/step - loss: 610.0974 - mean_squared_error: 610.0974 - mae: 22.7659 - val_loss: 468.4188 - val_mean_squared_error: 468.4188 - val_mae: 20.4173\n",
      "Epoch 22/40\n",
      "11/11 [==============================] - 0s 5ms/step - loss: 610.0974 - mean_squared_error: 610.0974 - mae: 22.7659 - val_loss: 468.4188 - val_mean_squared_error: 468.4188 - val_mae: 20.4173\n",
      "Epoch 23/40\n",
      "11/11 [==============================] - 0s 5ms/step - loss: 610.0974 - mean_squared_error: 610.0974 - mae: 22.7659 - val_loss: 468.4188 - val_mean_squared_error: 468.4188 - val_mae: 20.4173\n",
      "Epoch 24/40\n",
      "11/11 [==============================] - 0s 5ms/step - loss: 610.0974 - mean_squared_error: 610.0974 - mae: 22.7659 - val_loss: 468.4188 - val_mean_squared_error: 468.4188 - val_mae: 20.4173\n",
      "Epoch 25/40\n",
      "11/11 [==============================] - 0s 5ms/step - loss: 610.0974 - mean_squared_error: 610.0974 - mae: 22.7659 - val_loss: 468.4188 - val_mean_squared_error: 468.4188 - val_mae: 20.4173\n",
      "Epoch 26/40\n",
      "11/11 [==============================] - 0s 5ms/step - loss: 610.0974 - mean_squared_error: 610.0974 - mae: 22.7659 - val_loss: 468.4188 - val_mean_squared_error: 468.4188 - val_mae: 20.4173\n",
      "Epoch 27/40\n",
      "11/11 [==============================] - 0s 5ms/step - loss: 610.0974 - mean_squared_error: 610.0974 - mae: 22.7659 - val_loss: 468.4188 - val_mean_squared_error: 468.4188 - val_mae: 20.4173\n",
      "Epoch 28/40\n",
      "11/11 [==============================] - 0s 5ms/step - loss: 610.0974 - mean_squared_error: 610.0974 - mae: 22.7659 - val_loss: 468.4188 - val_mean_squared_error: 468.4188 - val_mae: 20.4173\n",
      "Epoch 29/40\n",
      "11/11 [==============================] - 0s 5ms/step - loss: 610.0974 - mean_squared_error: 610.0974 - mae: 22.7659 - val_loss: 468.4188 - val_mean_squared_error: 468.4188 - val_mae: 20.4173\n",
      "Epoch 30/40\n",
      "11/11 [==============================] - 0s 5ms/step - loss: 610.0974 - mean_squared_error: 610.0974 - mae: 22.7659 - val_loss: 468.4188 - val_mean_squared_error: 468.4188 - val_mae: 20.4173\n",
      "Epoch 31/40\n",
      "11/11 [==============================] - 0s 5ms/step - loss: 610.0973 - mean_squared_error: 610.0973 - mae: 22.7659 - val_loss: 468.4188 - val_mean_squared_error: 468.4188 - val_mae: 20.4173\n",
      "Epoch 32/40\n",
      "11/11 [==============================] - 0s 5ms/step - loss: 610.0974 - mean_squared_error: 610.0974 - mae: 22.7659 - val_loss: 468.4188 - val_mean_squared_error: 468.4188 - val_mae: 20.4173\n",
      "Epoch 33/40\n",
      "11/11 [==============================] - 0s 5ms/step - loss: 610.0974 - mean_squared_error: 610.0974 - mae: 22.7659 - val_loss: 468.4188 - val_mean_squared_error: 468.4188 - val_mae: 20.4173\n",
      "Epoch 34/40\n",
      "11/11 [==============================] - 0s 5ms/step - loss: 610.0974 - mean_squared_error: 610.0974 - mae: 22.7659 - val_loss: 468.4188 - val_mean_squared_error: 468.4188 - val_mae: 20.4173\n",
      "Epoch 35/40\n",
      "11/11 [==============================] - 0s 5ms/step - loss: 610.0974 - mean_squared_error: 610.0974 - mae: 22.7659 - val_loss: 468.4188 - val_mean_squared_error: 468.4188 - val_mae: 20.4173\n",
      "Epoch 36/40\n",
      "11/11 [==============================] - 0s 5ms/step - loss: 610.0974 - mean_squared_error: 610.0974 - mae: 22.7659 - val_loss: 468.4188 - val_mean_squared_error: 468.4188 - val_mae: 20.4173\n",
      "Epoch 37/40\n",
      "11/11 [==============================] - 0s 5ms/step - loss: 610.0974 - mean_squared_error: 610.0974 - mae: 22.7659 - val_loss: 468.4188 - val_mean_squared_error: 468.4188 - val_mae: 20.4173\n",
      "Epoch 38/40\n",
      "11/11 [==============================] - 0s 5ms/step - loss: 610.0974 - mean_squared_error: 610.0974 - mae: 22.7659 - val_loss: 468.4188 - val_mean_squared_error: 468.4188 - val_mae: 20.4173\n",
      "Epoch 39/40\n",
      "11/11 [==============================] - 0s 5ms/step - loss: 610.0973 - mean_squared_error: 610.0973 - mae: 22.7659 - val_loss: 468.4188 - val_mean_squared_error: 468.4188 - val_mae: 20.4173\n",
      "Epoch 40/40\n",
      "11/11 [==============================] - 0s 5ms/step - loss: 610.0974 - mean_squared_error: 610.0974 - mae: 22.7659 - val_loss: 468.4188 - val_mean_squared_error: 468.4188 - val_mae: 20.4173\n"
     ]
    }
   ],
   "source": [
    "history = model.fit(train_x, train_y, validation_data=(val_x, val_y),epochs=40)"
   ]
  },
  {
   "cell_type": "markdown",
   "id": "49384a80",
   "metadata": {},
   "source": [
    "## 시각화"
   ]
  },
  {
   "cell_type": "code",
   "execution_count": 34,
   "id": "6d0f2a98",
   "metadata": {},
   "outputs": [
    {
     "data": {
      "text/plain": [
       "dict_keys(['loss', 'mean_squared_error', 'mae', 'val_loss', 'val_mean_squared_error', 'val_mae'])"
      ]
     },
     "execution_count": 34,
     "metadata": {},
     "output_type": "execute_result"
    }
   ],
   "source": [
    "history.history.keys()"
   ]
  },
  {
   "cell_type": "code",
   "execution_count": 35,
   "id": "65cdb01e",
   "metadata": {},
   "outputs": [
    {
     "name": "stderr",
     "output_type": "stream",
     "text": [
      "/var/folders/96/sm2p62h1023c4ytkjcyhc9x40000gn/T/ipykernel_3374/2438909638.py:2: MatplotlibDeprecationWarning: The seaborn styles shipped by Matplotlib are deprecated since 3.6, as they no longer correspond to the styles shipped by seaborn. However, they will remain available as 'seaborn-v0_8-<style>'. Alternatively, directly use the seaborn API instead.\n",
      "  plt.style.use('seaborn-white')\n"
     ]
    },
    {
     "data": {
      "image/png": "[encoded data removed]",
      "text/plain": [
       "<Figure size 1200x500 with 2 Axes>"
      ]
     },
     "metadata": {},
     "output_type": "display_data"
    }
   ],
   "source": [
    "# 모델 학습 히스토리에서 loss, val_loss, mae, val_mae를 차트로 보여줍니다.\n",
    "plt.style.use('seaborn-white')\n",
    "\n",
    "history_dict = history.history\n",
    "\n",
    "loss = history_dict['loss']\n",
    "val_loss = history_dict['val_loss']\n",
    "\n",
    "epochs = range(1, len(loss) + 1)\n",
    "fig = plt.figure(figsize=(12, 5))\n",
    "\n",
    "ax1 = fig.add_subplot(1, 2, 1)\n",
    "ax1.plot(epochs, loss, 'b-', label='train_loss')\n",
    "ax1.plot(epochs, val_loss, 'r-', label='val_loss')\n",
    "ax1.set_title('Train and Validation Loss')\n",
    "ax1.set_xlabel('Epochs')\n",
    "ax1.set_ylabel('Loss')\n",
    "ax1.grid()\n",
    "ax1.legend()\n",
    "\n",
    "mae = history_dict['mae']\n",
    "val_mae = history_dict['val_mae']\n",
    "\n",
    "ax2 = fig.add_subplot(1, 2, 2)\n",
    "ax2.plot(epochs, mae, 'b-', label='train_mae')\n",
    "ax2.plot(epochs, val_mae, 'r-', label='val_mae')\n",
    "ax2.set_title('Train and Validation MAE')\n",
    "ax2.set_xlabel('Epochs')\n",
    "ax2.set_ylabel('Accuracy')\n",
    "ax2.grid()\n",
    "ax2.legend()\n",
    "\n",
    "plt.show()"
   ]
  },
  {
   "cell_type": "markdown",
   "id": "b0fea2df",
   "metadata": {},
   "source": [
    "## 모델 평가 및 예측"
   ]
  },
  {
   "cell_type": "code",
   "execution_count": 36,
   "id": "1b677466",
   "metadata": {},
   "outputs": [
    {
     "name": "stdout",
     "output_type": "stream",
     "text": [
      "4/4 [==============================] - 0s 2ms/step - loss: 611.2521 - mean_squared_error: 611.2521 - mae: 22.9784\n"
     ]
    },
    {
     "data": {
      "text/plain": [
       "[611.2521362304688, 611.2521362304688, 22.978431701660156]"
      ]
     },
     "execution_count": 36,
     "metadata": {},
     "output_type": "execute_result"
    }
   ],
   "source": [
    "model.evaluate(test_data, test_labels)"
   ]
  },
  {
   "cell_type": "code",
   "execution_count": 37,
   "id": "991bc805",
   "metadata": {},
   "outputs": [
    {
     "name": "stdout",
     "output_type": "stream",
     "text": [
      "4/4 [==============================] - 0s 1ms/step\n"
     ]
    }
   ],
   "source": [
    "predicted_labels = model.predict(test_data)  # 모델을 사용하여 테스트 데이터에 대한 예측값 얻기"
   ]
  },
  {
   "cell_type": "code",
   "execution_count": 41,
   "id": "98c381e1",
   "metadata": {},
   "outputs": [
    {
     "ename": "ValueError",
     "evalue": "x and y must be the same size",
     "output_type": "error",
     "traceback": [
      "\u001b[0;31m---------------------------------------------------------------------------\u001b[0m",
      "\u001b[0;31mValueError\u001b[0m                                Traceback (most recent call last)",
      "Cell \u001b[0;32mIn[41], line 2\u001b[0m\n\u001b[1;32m      1\u001b[0m plt\u001b[39m.\u001b[39mscatter(test_data[:, \u001b[39m0\u001b[39m], test_labels, label\u001b[39m=\u001b[39m\u001b[39m'\u001b[39m\u001b[39mTrue Labels\u001b[39m\u001b[39m'\u001b[39m, c\u001b[39m=\u001b[39m\u001b[39m'\u001b[39m\u001b[39mblue\u001b[39m\u001b[39m'\u001b[39m)\n\u001b[0;32m----> 2\u001b[0m plt\u001b[39m.\u001b[39mscatter(test_data[:, \u001b[39m0\u001b[39m], predicted_labels, label\u001b[39m=\u001b[39m\u001b[39m'\u001b[39m\u001b[39mPredicted Labels\u001b[39m\u001b[39m'\u001b[39m, c\u001b[39m=\u001b[39m\u001b[39m'\u001b[39m\u001b[39mred\u001b[39m\u001b[39m'\u001b[39m)\n\u001b[1;32m      3\u001b[0m plt\u001b[39m.\u001b[39mxlabel(\u001b[39m'\u001b[39m\u001b[39mFeature 1\u001b[39m\u001b[39m'\u001b[39m)\n\u001b[1;32m      4\u001b[0m plt\u001b[39m.\u001b[39mylabel(\u001b[39m'\u001b[39m\u001b[39mLabel/Value\u001b[39m\u001b[39m'\u001b[39m)\n",
      "File \u001b[0;32m~/anaconda3/lib/python3.11/site-packages/matplotlib/pyplot.py:2862\u001b[0m, in \u001b[0;36mscatter\u001b[0;34m(x, y, s, c, marker, cmap, norm, vmin, vmax, alpha, linewidths, edgecolors, plotnonfinite, data, **kwargs)\u001b[0m\n\u001b[1;32m   2857\u001b[0m \u001b[39m@_copy_docstring_and_deprecators\u001b[39m(Axes\u001b[39m.\u001b[39mscatter)\n\u001b[1;32m   2858\u001b[0m \u001b[39mdef\u001b[39;00m \u001b[39mscatter\u001b[39m(\n\u001b[1;32m   2859\u001b[0m         x, y, s\u001b[39m=\u001b[39m\u001b[39mNone\u001b[39;00m, c\u001b[39m=\u001b[39m\u001b[39mNone\u001b[39;00m, marker\u001b[39m=\u001b[39m\u001b[39mNone\u001b[39;00m, cmap\u001b[39m=\u001b[39m\u001b[39mNone\u001b[39;00m, norm\u001b[39m=\u001b[39m\u001b[39mNone\u001b[39;00m,\n\u001b[1;32m   2860\u001b[0m         vmin\u001b[39m=\u001b[39m\u001b[39mNone\u001b[39;00m, vmax\u001b[39m=\u001b[39m\u001b[39mNone\u001b[39;00m, alpha\u001b[39m=\u001b[39m\u001b[39mNone\u001b[39;00m, linewidths\u001b[39m=\u001b[39m\u001b[39mNone\u001b[39;00m, \u001b[39m*\u001b[39m,\n\u001b[1;32m   2861\u001b[0m         edgecolors\u001b[39m=\u001b[39m\u001b[39mNone\u001b[39;00m, plotnonfinite\u001b[39m=\u001b[39m\u001b[39mFalse\u001b[39;00m, data\u001b[39m=\u001b[39m\u001b[39mNone\u001b[39;00m, \u001b[39m*\u001b[39m\u001b[39m*\u001b[39mkwargs):\n\u001b[0;32m-> 2862\u001b[0m     __ret \u001b[39m=\u001b[39m gca()\u001b[39m.\u001b[39mscatter(\n\u001b[1;32m   2863\u001b[0m         x, y, s\u001b[39m=\u001b[39ms, c\u001b[39m=\u001b[39mc, marker\u001b[39m=\u001b[39mmarker, cmap\u001b[39m=\u001b[39mcmap, norm\u001b[39m=\u001b[39mnorm,\n\u001b[1;32m   2864\u001b[0m         vmin\u001b[39m=\u001b[39mvmin, vmax\u001b[39m=\u001b[39mvmax, alpha\u001b[39m=\u001b[39malpha, linewidths\u001b[39m=\u001b[39mlinewidths,\n\u001b[1;32m   2865\u001b[0m         edgecolors\u001b[39m=\u001b[39medgecolors, plotnonfinite\u001b[39m=\u001b[39mplotnonfinite,\n\u001b[1;32m   2866\u001b[0m         \u001b[39m*\u001b[39m\u001b[39m*\u001b[39m({\u001b[39m\"\u001b[39m\u001b[39mdata\u001b[39m\u001b[39m\"\u001b[39m: data} \u001b[39mif\u001b[39;00m data \u001b[39mis\u001b[39;00m \u001b[39mnot\u001b[39;00m \u001b[39mNone\u001b[39;00m \u001b[39melse\u001b[39;00m {}), \u001b[39m*\u001b[39m\u001b[39m*\u001b[39mkwargs)\n\u001b[1;32m   2867\u001b[0m     sci(__ret)\n\u001b[1;32m   2868\u001b[0m     \u001b[39mreturn\u001b[39;00m __ret\n",
      "File \u001b[0;32m~/anaconda3/lib/python3.11/site-packages/matplotlib/__init__.py:1442\u001b[0m, in \u001b[0;36m_preprocess_data.<locals>.inner\u001b[0;34m(ax, data, *args, **kwargs)\u001b[0m\n\u001b[1;32m   1439\u001b[0m \u001b[39m@functools\u001b[39m\u001b[39m.\u001b[39mwraps(func)\n\u001b[1;32m   1440\u001b[0m \u001b[39mdef\u001b[39;00m \u001b[39minner\u001b[39m(ax, \u001b[39m*\u001b[39margs, data\u001b[39m=\u001b[39m\u001b[39mNone\u001b[39;00m, \u001b[39m*\u001b[39m\u001b[39m*\u001b[39mkwargs):\n\u001b[1;32m   1441\u001b[0m     \u001b[39mif\u001b[39;00m data \u001b[39mis\u001b[39;00m \u001b[39mNone\u001b[39;00m:\n\u001b[0;32m-> 1442\u001b[0m         \u001b[39mreturn\u001b[39;00m func(ax, \u001b[39m*\u001b[39m\u001b[39mmap\u001b[39m(sanitize_sequence, args), \u001b[39m*\u001b[39m\u001b[39m*\u001b[39mkwargs)\n\u001b[1;32m   1444\u001b[0m     bound \u001b[39m=\u001b[39m new_sig\u001b[39m.\u001b[39mbind(ax, \u001b[39m*\u001b[39margs, \u001b[39m*\u001b[39m\u001b[39m*\u001b[39mkwargs)\n\u001b[1;32m   1445\u001b[0m     auto_label \u001b[39m=\u001b[39m (bound\u001b[39m.\u001b[39marguments\u001b[39m.\u001b[39mget(label_namer)\n\u001b[1;32m   1446\u001b[0m                   \u001b[39mor\u001b[39;00m bound\u001b[39m.\u001b[39mkwargs\u001b[39m.\u001b[39mget(label_namer))\n",
      "File \u001b[0;32m~/anaconda3/lib/python3.11/site-packages/matplotlib/axes/_axes.py:4584\u001b[0m, in \u001b[0;36mAxes.scatter\u001b[0;34m(self, x, y, s, c, marker, cmap, norm, vmin, vmax, alpha, linewidths, edgecolors, plotnonfinite, **kwargs)\u001b[0m\n\u001b[1;32m   4582\u001b[0m y \u001b[39m=\u001b[39m np\u001b[39m.\u001b[39mma\u001b[39m.\u001b[39mravel(y)\n\u001b[1;32m   4583\u001b[0m \u001b[39mif\u001b[39;00m x\u001b[39m.\u001b[39msize \u001b[39m!=\u001b[39m y\u001b[39m.\u001b[39msize:\n\u001b[0;32m-> 4584\u001b[0m     \u001b[39mraise\u001b[39;00m \u001b[39mValueError\u001b[39;00m(\u001b[39m\"\u001b[39m\u001b[39mx and y must be the same size\u001b[39m\u001b[39m\"\u001b[39m)\n\u001b[1;32m   4586\u001b[0m \u001b[39mif\u001b[39;00m s \u001b[39mis\u001b[39;00m \u001b[39mNone\u001b[39;00m:\n\u001b[1;32m   4587\u001b[0m     s \u001b[39m=\u001b[39m (\u001b[39m20\u001b[39m \u001b[39mif\u001b[39;00m mpl\u001b[39m.\u001b[39mrcParams[\u001b[39m'\u001b[39m\u001b[39m_internal.classic_mode\u001b[39m\u001b[39m'\u001b[39m] \u001b[39melse\u001b[39;00m\n\u001b[1;32m   4588\u001b[0m          mpl\u001b[39m.\u001b[39mrcParams[\u001b[39m'\u001b[39m\u001b[39mlines.markersize\u001b[39m\u001b[39m'\u001b[39m] \u001b[39m*\u001b[39m\u001b[39m*\u001b[39m \u001b[39m2.0\u001b[39m)\n",
      "\u001b[0;31mValueError\u001b[0m: x and y must be the same size"
     ]
    },
    {
     "data": {
      "image/png": "[encoded data removed]",
      "text/plain": [
       "<Figure size 640x480 with 1 Axes>"
      ]
     },
     "metadata": {},
     "output_type": "display_data"
    }
   ],
   "source": [
    "plt.scatter(test_data[:, 0], test_labels, label='True Labels', c='blue')\n",
    "plt.scatter(test_data[:, 0], predicted_labels, label='Predicted Labels', c='red')\n",
    "plt.xlabel('Feature 1')\n",
    "plt.ylabel('Label/Value')\n",
    "plt.legend()\n",
    "\n",
    "plt.show()"
   ]
  }
 ],
 "metadata": {
  "kernelspec": {
   "display_name": "Python 3 (ipykernel)",
   "language": "python",
   "name": "python3"
  },
  "language_info": {
   "codemirror_mode": {
    "name": "ipython",
    "version": 3
   },
   "file_extension": ".py",
   "mimetype": "text/x-python",
   "name": "python",
   "nbconvert_exporter": "python",
   "pygments_lexer": "ipython3",
   "version": "3.11.4"
  }
 },
 "nbformat": 4,
 "nbformat_minor": 5
}
