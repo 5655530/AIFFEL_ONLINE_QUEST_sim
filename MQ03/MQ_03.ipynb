{
 "cells": [
  {
   "cell_type": "markdown",
   "id": "64086e79",
   "metadata": {},
   "source": [
    "# **가위바위보 분류기 만들기**\n",
    "## ● 개요\n",
    "이미지를 직접 수집하여 가위바위보 분류기를 만든다\n",
    "## ● 목차\n",
    "**1. 데이터 전처리**  \n",
    "1.1. 데이터 불러오기 & 리사이즈  \n",
    "1.2. 이미지 라벨링하기  \n",
    "1.3. 훈련 / 테스트 세트 분리  \n",
    "**2. 학습시키기**  \n",
    "**3. 테스트하기**  \n",
    "\n",
    "## ● 본문"
   ]
  },
  {
   "cell_type": "code",
   "execution_count": 134,
   "id": "7a63d5c9",
   "metadata": {},
   "outputs": [
    {
     "name": "stdout",
     "output_type": "stream",
     "text": [
      "2.6.0\n",
      "1.22.2\n"
     ]
    }
   ],
   "source": [
    "# 라이브러리 버전 확인\n",
    "import tensorflow as tf\n",
    "import numpy as np\n",
    "\n",
    "print(tf.__version__)\n",
    "print(np.__version__)"
   ]
  },
  {
   "cell_type": "code",
   "execution_count": 135,
   "id": "64500bf7",
   "metadata": {},
   "outputs": [
    {
     "name": "stdout",
     "output_type": "stream",
     "text": [
      "PIL 라이브러리 import 완료!\n"
     ]
    }
   ],
   "source": [
    "# 데이터 불러오기 + Resize 하기\n",
    "from PIL import Image\n",
    "import glob\n",
    "import os\n",
    "\n",
    "print(\"PIL 라이브러리 import 완료!\")"
   ]
  },
  {
   "cell_type": "code",
   "execution_count": 136,
   "id": "f67487ba",
   "metadata": {},
   "outputs": [
    {
     "name": "stdout",
     "output_type": "stream",
     "text": [
      "300  images to be resized.\n",
      "300  images resized.\n",
      "가위 이미지 resize 완료!\n",
      "300  images to be resized.\n",
      "300  images resized.\n",
      "바위 이미지 resize 완료!\n",
      "300  images to be resized.\n",
      "300  images resized.\n",
      "보 이미지 resize 완료!\n"
     ]
    }
   ],
   "source": [
    "# 이미지 리사이즈 : 가위\n",
    "def resize_images(img_path):\n",
    "\timages=glob.glob(img_path + \"/*.jpg\")  \n",
    "    \n",
    "\tprint(len(images), \" images to be resized.\")\n",
    "\n",
    "    # 파일마다 모두 28x28 사이즈로 바꾸어 저장합니다.\n",
    "\ttarget_size=(28,28)\n",
    "\tfor img in images:\n",
    "\t\told_img=Image.open(img)\n",
    "\t\tnew_img=old_img.resize(target_size,Image.ANTIALIAS)\n",
    "\t\tnew_img.save(img, \"JPEG\")\n",
    "    \n",
    "\tprint(len(images), \" images resized.\")\n",
    "\t\n",
    "    \n",
    "# 가위 이미지가 저장된 디렉토리 아래의 모든 jpg 파일을 읽어들여서\n",
    "image_dir_path = os.getenv(\"HOME\") + \"/aiffel/rock_scissor_paper/scissor\"\n",
    "resize_images(image_dir_path)\n",
    "print(\"가위 이미지 resize 완료!\")\n",
    "\n",
    "# 바위\n",
    "image_dir_path = os.getenv(\"HOME\") + \"/aiffel/rock_scissor_paper/rock\"\n",
    "resize_images(image_dir_path)\n",
    "print(\"바위 이미지 resize 완료!\")\n",
    "\n",
    "# 보\n",
    "image_dir_path = os.getenv(\"HOME\") + \"/aiffel/rock_scissor_paper/paper\"\n",
    "resize_images(image_dir_path)\n",
    "print(\"보 이미지 resize 완료!\")"
   ]
  },
  {
   "cell_type": "code",
   "execution_count": 137,
   "id": "583f3a46",
   "metadata": {},
   "outputs": [
    {
     "name": "stdout",
     "output_type": "stream",
     "text": [
      "데이터(X)의 이미지 개수는 900 입니다.\n",
      "최소값:  0.0 최대값:  1.0\n",
      "X shape: (900, 28, 28, 3)\n",
      " shape: (900,)\n"
     ]
    }
   ],
   "source": [
    "# load_data() 함수 : 이미지 데이터를 읽을 수 있다\n",
    "# 입력으로 이미지가 있는 폴더 위치를 받음\n",
    "# 3개의 클래스 즉, 가위: 0, 바위: 1, 보: 2 로 라벨링됨\n",
    "\n",
    "import numpy as np\n",
    "\n",
    "def load_data(img_path, number_of_data=900):  # 가위바위보 이미지 개수 총합에 주의하세요.\n",
    "    # 가위 : 0, 바위 : 1, 보 : 2\n",
    "    img_size=28\n",
    "    color=3\n",
    "    #이미지 데이터와 라벨(가위 : 0, 바위 : 1, 보 : 2) 데이터를 담을 행렬(matrix) 영역을 생성합니다.\n",
    "    imgs=np.zeros(number_of_data*img_size*img_size*color,dtype=np.int32).reshape(number_of_data,img_size,img_size,color)\n",
    "    labels=np.zeros(number_of_data,dtype=np.int32)\n",
    "\n",
    "    idx=0\n",
    "    for file in glob.iglob(img_path+'/scissor/*.jpg'):\n",
    "        img = np.array(Image.open(file),dtype=np.int32)\n",
    "        imgs[idx,:,:,:]=img    # 데이터 영역에 이미지 행렬을 복사\n",
    "        labels[idx]=0   # 가위 : 0\n",
    "        idx=idx+1\n",
    "\n",
    "    for file in glob.iglob(img_path+'/rock/*.jpg'):\n",
    "        img = np.array(Image.open(file),dtype=np.int32)\n",
    "        imgs[idx,:,:,:]=img    # 데이터 영역에 이미지 행렬을 복사\n",
    "        labels[idx]=1   # 바위 : 1\n",
    "        idx=idx+1  \n",
    "    \n",
    "    for file in glob.iglob(img_path+'/paper/*.jpg'):\n",
    "        img = np.array(Image.open(file),dtype=np.int32)\n",
    "        imgs[idx,:,:,:]=img    # 데이터 영역에 이미지 행렬을 복사\n",
    "        labels[idx]=2   # 보 : 2\n",
    "        idx=idx+1\n",
    "        \n",
    "    print(\"데이터(X)의 이미지 개수는\", idx,\"입니다.\")\n",
    "    return imgs, labels\n",
    "\n",
    "image_dir_path = os.getenv(\"HOME\") + \"/aiffel/rock_scissor_paper\"\n",
    "(X, y)=load_data(image_dir_path)\n",
    "X_norm = X/255.0   # 입력은 0~1 사이의 값으로 정규화\n",
    "\n",
    "# 정규화되었는지 확인한다\n",
    "print('최소값: ', np.min(X_norm), '최대값: ', np.max(np.max(X_norm)) )\n",
    "\n",
    "print(\"X shape: {}\".format(X_norm.shape))\n",
    "print(\" shape: {}\".format(y.shape))"
   ]
  },
  {
   "cell_type": "code",
   "execution_count": 138,
   "id": "d24e99a9",
   "metadata": {},
   "outputs": [
    {
     "data": {
      "text/plain": [
       "((675, 28, 28, 3), (225, 28, 28, 3), (675,), (225,))"
      ]
     },
     "execution_count": 138,
     "metadata": {},
     "output_type": "execute_result"
    }
   ],
   "source": [
    "# 데이터 테스트세트 분리하기\n",
    "from sklearn.model_selection import train_test_split\n",
    "\n",
    "X_train, X_test, y_train, y_test = train_test_split(X_norm, y, test_size=0.25, shuffle = True, random_state = 19)\n",
    "X_train.shape, X_test.shape, y_train.shape, y_test.shape"
   ]
  },
  {
   "cell_type": "code",
   "execution_count": 139,
   "id": "f31920fd",
   "metadata": {},
   "outputs": [
    {
     "name": "stdout",
     "output_type": "stream",
     "text": [
      "라벨:  1\n"
     ]
    },
    {
     "data": {
      "image/png": "[encoded data removed]",
      "text/plain": [
       "<Figure size 432x288 with 1 Axes>"
      ]
     },
     "metadata": {
      "needs_background": "light"
     },
     "output_type": "display_data"
    }
   ],
   "source": [
    "# 첫번째 데이터를 로드해본다(이미지, 라벨)\n",
    "import matplotlib.pyplot as plt\n",
    "\n",
    "plt.imshow(X_train[0])\n",
    "print('라벨: ', y_train[0])"
   ]
  },
  {
   "cell_type": "code",
   "execution_count": 140,
   "id": "429dd147",
   "metadata": {},
   "outputs": [
    {
     "data": {
      "image/png": "[encoded data removed]",
      "text/plain": [
       "<Figure size 432x288 with 1 Axes>"
      ]
     },
     "metadata": {
      "needs_background": "light"
     },
     "output_type": "display_data"
    },
    {
     "name": "stdout",
     "output_type": "stream",
     "text": [
      "21 번째 이미지의 숫자는 바로  0 입니다.\n"
     ]
    }
   ],
   "source": [
    "# 임의의 데이터에대해 이미지, 라벨 확인\n",
    "index=20\n",
    "plt.imshow(x_train[index],cmap=plt.cm.binary)\n",
    "plt.show()\n",
    "print( (index+1), '번째 이미지의 숫자는 바로 ',  y_train[index], '입니다.')"
   ]
  },
  {
   "cell_type": "markdown",
   "id": "1ac9c0af",
   "metadata": {},
   "source": [
    "### 딥러닝 네트워크 설계하기"
   ]
  },
  {
   "cell_type": "code",
   "execution_count": 141,
   "id": "d8ff5746",
   "metadata": {},
   "outputs": [],
   "source": [
    "import tensorflow as tf\n",
    "from tensorflow import keras\n",
    "import numpy as np\n",
    "\n",
    "# 데이터셋 로드 및 전처리\n",
    "# (이미지 데이터셋과 레이블 데이터셋을 각각 X_train, y_train, X_test, y_test로 로드하고 전처리하는 부분)\n",
    "\n",
    "# 모델 정의\n",
    "model = keras.models.Sequential()\n",
    "model.add(keras.layers.Conv2D(16, (3,3), activation='relu', input_shape=(28,28,3)))\n",
    "model.add(keras.layers.MaxPooling2D(2,2))\n",
    "model.add(keras.layers.Conv2D(32, (3,3), activation='relu'))\n",
    "model.add(keras.layers.MaxPooling2D((2,2)))\n",
    "model.add(keras.layers.Flatten())\n",
    "model.add(keras.layers.Dense(32, activation='relu'))\n",
    "model.add(keras.layers.Dense(3, activation='softmax')) # 클래스 개수가 3이므로 출력 뉴런 수를 3으로 설정\n"
   ]
  },
  {
   "cell_type": "markdown",
   "id": "08b9c335",
   "metadata": {},
   "source": [
    "### 딥러닝 네트워크 학습시키기"
   ]
  },
  {
   "cell_type": "code",
   "execution_count": 142,
   "id": "b23fe570",
   "metadata": {},
   "outputs": [
    {
     "name": "stdout",
     "output_type": "stream",
     "text": [
      "Epoch 1/30\n",
      "22/22 [==============================] - 1s 20ms/step - loss: 1.0664 - accuracy: 0.4667\n",
      "Epoch 2/30\n",
      "22/22 [==============================] - 0s 21ms/step - loss: 0.9584 - accuracy: 0.6148\n",
      "Epoch 3/30\n",
      "22/22 [==============================] - 0s 20ms/step - loss: 0.7879 - accuracy: 0.7437\n",
      "Epoch 4/30\n",
      "22/22 [==============================] - 0s 19ms/step - loss: 0.5696 - accuracy: 0.8044\n",
      "Epoch 5/30\n",
      "22/22 [==============================] - 0s 22ms/step - loss: 0.4304 - accuracy: 0.8622\n",
      "Epoch 6/30\n",
      "22/22 [==============================] - 0s 20ms/step - loss: 0.3160 - accuracy: 0.8948\n",
      "Epoch 7/30\n",
      "22/22 [==============================] - 0s 22ms/step - loss: 0.2683 - accuracy: 0.9081\n",
      "Epoch 8/30\n",
      "22/22 [==============================] - 0s 19ms/step - loss: 0.2128 - accuracy: 0.9422\n",
      "Epoch 9/30\n",
      "22/22 [==============================] - 0s 20ms/step - loss: 0.1947 - accuracy: 0.9363\n",
      "Epoch 10/30\n",
      "22/22 [==============================] - 0s 20ms/step - loss: 0.1589 - accuracy: 0.9600\n",
      "Epoch 11/30\n",
      "22/22 [==============================] - 0s 20ms/step - loss: 0.1237 - accuracy: 0.9674\n",
      "Epoch 12/30\n",
      "22/22 [==============================] - 0s 21ms/step - loss: 0.1137 - accuracy: 0.9644\n",
      "Epoch 13/30\n",
      "22/22 [==============================] - 0s 20ms/step - loss: 0.0849 - accuracy: 0.9763\n",
      "Epoch 14/30\n",
      "22/22 [==============================] - 0s 19ms/step - loss: 0.1223 - accuracy: 0.9600\n",
      "Epoch 15/30\n",
      "22/22 [==============================] - 0s 19ms/step - loss: 0.0795 - accuracy: 0.9837\n",
      "Epoch 16/30\n",
      "22/22 [==============================] - 0s 20ms/step - loss: 0.0763 - accuracy: 0.9748\n",
      "Epoch 17/30\n",
      "22/22 [==============================] - 0s 19ms/step - loss: 0.0614 - accuracy: 0.9852\n",
      "Epoch 18/30\n",
      "22/22 [==============================] - 0s 20ms/step - loss: 0.0449 - accuracy: 0.9926\n",
      "Epoch 19/30\n",
      "22/22 [==============================] - 0s 20ms/step - loss: 0.0427 - accuracy: 0.9896\n",
      "Epoch 20/30\n",
      "22/22 [==============================] - 0s 19ms/step - loss: 0.0456 - accuracy: 0.9867\n",
      "Epoch 21/30\n",
      "22/22 [==============================] - 0s 20ms/step - loss: 0.0467 - accuracy: 0.9881\n",
      "Epoch 22/30\n",
      "22/22 [==============================] - 0s 19ms/step - loss: 0.0379 - accuracy: 0.9926\n",
      "Epoch 23/30\n",
      "22/22 [==============================] - 0s 20ms/step - loss: 0.0376 - accuracy: 0.9926\n",
      "Epoch 24/30\n",
      "22/22 [==============================] - 0s 20ms/step - loss: 0.0324 - accuracy: 0.9956\n",
      "Epoch 25/30\n",
      "22/22 [==============================] - 0s 19ms/step - loss: 0.0451 - accuracy: 0.9867\n",
      "Epoch 26/30\n",
      "22/22 [==============================] - 0s 19ms/step - loss: 0.0270 - accuracy: 0.9926\n",
      "Epoch 27/30\n",
      "22/22 [==============================] - 0s 20ms/step - loss: 0.0183 - accuracy: 0.9985\n",
      "Epoch 28/30\n",
      "22/22 [==============================] - 0s 20ms/step - loss: 0.0171 - accuracy: 0.9970\n",
      "Epoch 29/30\n",
      "22/22 [==============================] - 0s 20ms/step - loss: 0.0407 - accuracy: 0.9881\n",
      "Epoch 30/30\n",
      "22/22 [==============================] - 0s 21ms/step - loss: 0.0195 - accuracy: 0.9985\n"
     ]
    }
   ],
   "source": [
    "# model을 학습시키는 코드를 직접 작성해 보세요.\n",
    "# Hint! model.compile()과 model.fit()을 사용해 봅시다.\n",
    "# [[YOUR CODE]]\n",
    "\n",
    "# 모델 컴파일\n",
    "model.compile(optimizer='adam', loss='sparse_categorical_crossentropy', metrics=['accuracy'])\n",
    "\n",
    "# 모델 학습\n",
    "history = model.fit(X_train, y_train, epochs=30)\n"
   ]
  },
  {
   "cell_type": "code",
   "execution_count": 147,
   "id": "ab40321f",
   "metadata": {},
   "outputs": [
    {
     "data": {
      "text/plain": [
       "<matplotlib.legend.Legend at 0x7f7130199670>"
      ]
     },
     "execution_count": 147,
     "metadata": {},
     "output_type": "execute_result"
    },
    {
     "data": {
      "image/png": "[encoded data removed]",
      "text/plain": [
       "<Figure size 720x360 with 1 Axes>"
      ]
     },
     "metadata": {
      "needs_background": "light"
     },
     "output_type": "display_data"
    }
   ],
   "source": [
    "# 학습 과정에서의 손실(loss)과 정확도(accuracy)를 그래프로 그리기\n",
    "plt.figure(figsize=(10, 5))\n",
    "\n",
    "# 정확도 & 손실 그래프\n",
    "plt.subplot(1, 2, 2)\n",
    "plt.plot(history.history['accuracy'], label='Training Accuracy', c='r')\n",
    "plt.plot(history.history['loss'], label='Training Loss')\n",
    "\n",
    "plt.xlabel('Epoch')\n",
    "plt.ylabel('Accuracy')\n",
    "plt.legend()\n",
    "\n",
    "# Epoch이 23회정도일 때 정확도가 최대값이된다"
   ]
  },
  {
   "cell_type": "markdown",
   "id": "20a9349c",
   "metadata": {},
   "source": [
    "### 얼마나 잘 만들었는지 확인하기(테스트)"
   ]
  },
  {
   "cell_type": "code",
   "execution_count": 145,
   "id": "732dca5d",
   "metadata": {},
   "outputs": [
    {
     "name": "stdout",
     "output_type": "stream",
     "text": [
      "8/8 [==============================] - 0s 10ms/step - loss: 0.0318 - accuracy: 0.9956\n",
      "Test loss: 0.03181679546833038\n",
      "Test accuracy: 0.995555579662323\n"
     ]
    }
   ],
   "source": [
    "# model을 학습시키는 코드를 직접 작성해 보세요.\n",
    "# Hint! model.evaluate()을 사용해 봅시다.\n",
    "# [[YOUR CODE]]\n",
    "\n",
    "# 모델 평가\n",
    "test_loss, test_accuracy = model.evaluate(X_test, y_test)\n",
    "print(\"Test loss:\", test_loss)\n",
    "print(\"Test accuracy:\", test_accuracy)\n",
    "\n",
    "# Test accuracy: 0.9777777791023254"
   ]
  },
  {
   "cell_type": "markdown",
   "id": "74867f23",
   "metadata": {},
   "source": [
    "## ● 회고\n",
    "직접 데이터를 만들어서 분류기를 만드는 과정이 흥미로웠다\n",
    "이번에 이용한 keras는 이번 노드를 처음 접했을 때도 공부한 것이다.  \n",
    "당시에는 adam이 뭔지 softmax가 뭔지 전혀 모르고 무작정 따라만했는데, 책을 한 번 완독하고 다시 보니 이제 의미를 알게 되어 감회가 남달랐다.  \n",
    "사실 이미지 리사이즈 부분과 라벨링하는 코드는 처음 접해 해독하는 것도 버거웠다. 부족한 부분은 주말동안 다시 한줄한줄 의미를 되새기며 복습해야겠다!\n",
    "\n",
    "## ● reference\n",
    "- 데이터 분리하기 : https://mgyo.tistory.com/75\n",
    "- 터미널 사용방법 : https://heytech.tistory.com/35\n",
    "- glob.glob() 사용법 : https://m.blog.naver.com/siniphia/221397012627\n"
   ]
  },
  {
   "cell_type": "code",
   "execution_count": null,
   "id": "49ed3c35",
   "metadata": {},
   "outputs": [],
   "source": []
  }
 ],
 "metadata": {
  "kernelspec": {
   "display_name": "Python 3 (ipykernel)",
   "language": "python",
   "name": "python3"
  },
  "language_info": {
   "codemirror_mode": {
    "name": "ipython",
    "version": 3
   },
   "file_extension": ".py",
   "mimetype": "text/x-python",
   "name": "python",
   "nbconvert_exporter": "python",
   "pygments_lexer": "ipython3",
   "version": "3.9.7"
  }
 },
 "nbformat": 4,
 "nbformat_minor": 5
}
