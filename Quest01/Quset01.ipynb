{
  "nbformat": 4,
  "nbformat_minor": 0,
  "metadata": {
    "colab": {
      "provenance": [],
      "include_colab_link": true
    },
    "kernelspec": {
      "name": "python3",
      "display_name": "Python 3"
    },
    "language_info": {
      "name": "python"
    }
  },
  "cells": [
    {
      "cell_type": "markdown",
      "metadata": {
        "id": "view-in-github",
        "colab_type": "text"
      },
      "source": [
        "<a href=\"https://colab.research.google.com/github/jiansim03/AIFFEL_ONLINE_QUEST/blob/main/Quest01/Quset01.ipynb\" target=\"_parent\"><img src=\"https://colab.research.google.com/assets/colab-badge.svg\" alt=\"Open In Colab\"/></a>"
      ]
    },
    {
      "cell_type": "code",
      "source": [
        "\n",
        "word = input()\n",
        "rWord = '' # 역순으로 단어를 저장할 변수 rWord를 선언한다. 일단 빈 칸을 할당해준다\n",
        "\n",
        "for i in word :\n",
        "  rWord = i + rWord # 반복문이 진행됨에 따라 rWord의 앞에 문자열내 글자가 한 글자씩 쌓이도록 한다\n",
        "print(rWord) # 문자열이 역순으로 모두 저장되었으면 결과를 출력한다\n",
        "\n",
        "if word == rWord: # 처음 입력한 단어와 함수를 거친 단어의 글자가 같은지 비교한다.\n",
        "  print('입력된 단어는 회문입니다.')\n",
        "else:\n",
        "  print('입력된 단어는 회문이 아닙니다.')\n",
        "\n",
        "\n",
        "\n",
        "\n",
        "\n"
      ],
      "metadata": {
        "id": "qm8U9Y0Cb4pR",
        "colab": {
          "base_uri": "https://localhost:8080/"
        },
        "outputId": "59fdff8a-4f59-44b1-beb2-f369e12bce97"
      },
      "execution_count": null,
      "outputs": [
        {
          "output_type": "stream",
          "name": "stdout",
          "text": [
            "안녕\n",
            "녕안\n",
            "입력된 단어는 회문이 아닙니다.\n"
          ]
        }
      ]
    }
  ]
}