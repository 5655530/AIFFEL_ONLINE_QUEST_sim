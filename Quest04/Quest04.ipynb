{
  "nbformat": 4,
  "nbformat_minor": 0,
  "metadata": {
    "colab": {
      "provenance": [],
      "include_colab_link": true
    },
    "kernelspec": {
      "name": "python3",
      "display_name": "Python 3"
    },
    "language_info": {
      "name": "python"
    }
  },
  "cells": [
    {
      "cell_type": "markdown",
      "metadata": {
        "id": "view-in-github",
        "colab_type": "text"
      },
      "source": [
        "<a href=\"https://colab.research.google.com/github/jiansim03/AIFFEL_ONLINE_QUEST/blob/main/Quest04/Quest04.ipynb\" target=\"_parent\"><img src=\"https://colab.research.google.com/assets/colab-badge.svg\" alt=\"Open In Colab\"/></a>"
      ]
    },
    {
      "cell_type": "code",
      "execution_count": 1,
      "metadata": {
        "id": "k_Cb99TFoewF",
        "colab": {
          "base_uri": "https://localhost:8080/"
        },
        "outputId": "c2c7294b-2609-4052-99d2-5221c6b1cdea"
      },
      "outputs": [
        {
          "output_type": "stream",
          "name": "stdout",
          "text": [
            "Using Comprehension:\n",
            "Nemo is swimming at 3 m/s\n",
            "Dory is swimming at 5 m/s\n",
            "Using Generator:\n",
            "Nemo is swimming at 3 m/s\n",
            "Dory is swimming at 5 m/s\n"
          ]
        }
      ],
      "source": [
        "# 아래 물고기 리스트를 입력값으로 넣었을때 물고기의 움직임을 출력값으로 뱉어내도록 만들어봅시다.\n",
        "# 물고기의 움직임을 출력하는 함수 2개(컴프리헨션, 제너레이터)를 만듭니다.\n",
        "# 컴프리헨션 함수에는 이름, 속도를 조합하고 제너레이터 함수에는 for문과 yield문을 활용합니다.\n",
        "# 물고기 리스트를 입력받으면, 2개의 함수는 물고기 이름과, 속도를 출력해야 합니다.\n",
        "# 물고기 객체의 움직임은 일정 시간(2초) 간격으로 반복되어야 합니다.\n",
        "\n",
        "import time                       #2초 시간 지연을 위한 time 메서드 임포트\n",
        "\n",
        "\n",
        "# 컴프리헨션\n",
        "def show_fish_movement_comprehension(fish_list) :\n",
        "  movements = [f'{fish[\"이름\"]} is swimming at {fish[\"speed\"]} m/s' for fish in fish_list]\n",
        "  for movement in movements :\n",
        "    print(movement)\n",
        "    time.sleep(2)\n",
        "\n",
        "# 제너레이터\n",
        "def show_fish_movement_Generator(fish_list):          #입력 함수 호출\n",
        "  def fish_movement_generator():                      #제너레이터 함수 생성\n",
        "   for fish in fish_list:\n",
        "    yield f'{fish[\"이름\"]} is swimming at {fish[\"speed\"]} m/s'\n",
        "\n",
        "\n",
        "  fish_generator = fish_movement_generator()          #계속 사용할 제너레이터 변수 생성\n",
        "  print(next(fish_generator))\n",
        "  time.sleep(2)\n",
        "  print(next(fish_generator))\n",
        "\n",
        "\n",
        "# 물고기 리스트 입력\n",
        "fish_list = [\n",
        " {\"이름\": \"Nemo\", \"speed\": 3},\n",
        "{\"이름\": \"Dory\", \"speed\": 5},\n",
        "]\n",
        "\n",
        "print(\"Using Comprehension:\")\n",
        "show_fish_movement_comprehension(fish_list)\n",
        "print(\"Using Generator:\")\n",
        "show_fish_movement_Generator(fish_list)\n"
      ]
    }
  ]
}